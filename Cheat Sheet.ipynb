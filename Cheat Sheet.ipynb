{
 "cells": [
  {
   "cell_type": "code",
   "execution_count": null,
   "metadata": {},
   "outputs": [],
   "source": [
    "## Data Cleaninin\n"
   ]
  },
  {
   "cell_type": "raw",
   "metadata": {},
   "source": [
    "### getting the data types and describing the data\n",
    "df.describe()\n",
    "df.dtypes\n",
    "df.shape ## gives rows and column\n",
    "\n",
    "type(df) ## gives the type of data\n",
    "\n"
   ]
  },
  {
   "cell_type": "code",
   "execution_count": null,
   "metadata": {},
   "outputs": [],
   "source": [
    "## Selecting columns\n",
    "##data cleaning\n",
    "cols= Klevel_df.columns\n",
    "cols[10:80]\n",
    "\n",
    "#y= klevel_df.describe()\n",
    "klevel_df.dtypes\n",
    "klevel_df.shape\n"
   ]
  },
  {
   "cell_type": "raw",
   "metadata": {},
   "source": [
    "## appending two columns together\n",
    "df['column1&column2'] = df['column1 name'] +df['cloumn2']\n",
    "\n",
    "### to drop a column\n",
    "df.drop('nameof column', axis=1, inplace= True) ## droping inline look up what this means. This only drop 1 column"
   ]
  },
  {
   "cell_type": "raw",
   "metadata": {},
   "source": [
    "## Sorting columns\n",
    "df.sort_values(by='Age', ascending=True).head()\n",
    "## subsetting techniques\n",
    "\n",
    "## select all row where age is <40\n",
    "df[df.age<40].head()\n",
    "\n",
    "## multiple conditions\n",
    "df[(df.Age<40) & (df.name== \"ari\")]\n",
    "\n",
    "## exporting csv\n",
    "##Y1.to_csv('Klevel1.csv') ##code for exporting csv"
   ]
  },
  {
   "cell_type": "raw",
   "metadata": {},
   "source": [
    "## choosing number of rows and columns using Loc methond and dropping NAs"
   ]
  },
  {
   "cell_type": "raw",
   "metadata": {},
   "source": [
    "df.loc[0,:] ### first row and all columns\n",
    "df.loc[0:2, ['Cloumn1', 'column2']] ## 'column1:column2\"\n",
    "## rows with certain condition\n",
    "df.loc[df.columnname == 'row value', :]\n",
    "\n",
    "## missing values\n",
    "df.shape ## gives the size of dataframe\n",
    "\n",
    "df.dropna(how='any').shape ## drop rows with all missing values in every column\n",
    "## droping rows with  all missing values in vcertain columns\n",
    "df.dropna(subset=['name','salary'], how='any').shape"
   ]
  },
  {
   "cell_type": "markdown",
   "metadata": {},
   "source": [
    "# converting string to numeric"
   ]
  },
  {
   "cell_type": "raw",
   "metadata": {},
   "source": [
    "# convert just columns \"a\" and \"b\"\n",
    "df[[\"score\"]] = df[[\"score\"]].apply(pd.to_numeric)"
   ]
  },
  {
   "cell_type": "markdown",
   "metadata": {},
   "source": [
    "# Performing division "
   ]
  },
  {
   "cell_type": "raw",
   "metadata": {},
   "source": [
    " \n",
    "df = pd.DataFrame(np.random.randint(1, 5, size=(5, 2)), columns=['a', 'b'])\n",
    " \n",
    "# divide is equivalent to df['a']/df['b']\n",
    "# but with support to substitute a fill_value for missing data\n",
    " \n",
    "# introduce missing data\n",
    "df.loc[1, 'a'] = None\n",
    " \n",
    "df['c'] = df['a'].divide(df['b'], fill_value=1)\n",
    "df['d'] = df['a']/df['b']"
   ]
  },
  {
   "cell_type": "code",
   "execution_count": null,
   "metadata": {},
   "outputs": [],
   "source": []
  },
  {
   "cell_type": "code",
   "execution_count": null,
   "metadata": {},
   "outputs": [],
   "source": []
  },
  {
   "cell_type": "code",
   "execution_count": 1,
   "metadata": {},
   "outputs": [],
   "source": [
    "#Let's begin by importing what we'll need (You'll probably be copying and pasting this a lot)\n",
    "\n",
    "# The normal imports\n",
    "import numpy as np\n",
    "from numpy.random import randn\n",
    "import pandas as pd\n",
    "\n",
    "# Import the stats librayr from numpy\n",
    "from scipy import stats\n",
    "\n",
    "# These are the plotting modules adn libraries we'll use:\n",
    "import matplotlib as mpl\n",
    "import matplotlib.pyplot as plt\n",
    "import seaborn as sns\n",
    "\n",
    "# Command so that plots appear in the iPython Notebook\n",
    "%matplotlib inline"
   ]
  },
  {
   "cell_type": "code",
   "execution_count": 6,
   "metadata": {},
   "outputs": [
    {
     "data": {
      "text/plain": [
       "(array([ 6.,  6., 10., 14., 16., 22.,  7., 13.,  3.,  3.]),\n",
       " array([-2.15205451, -1.70202443, -1.25199435, -0.80196427, -0.35193419,\n",
       "         0.09809589,  0.54812597,  0.99815605,  1.44818613,  1.89821621,\n",
       "         2.34824629]),\n",
       " <a list of 10 Patch objects>)"
      ]
     },
     "execution_count": 6,
     "metadata": {},
     "output_type": "execute_result"
    },
    {
     "data": {
      "image/png": "[encoded data removed]",
      "text/plain": [
       "<Figure size 432x288 with 1 Axes>"
      ]
     },
     "metadata": {
      "needs_background": "light"
     },
     "output_type": "display_data"
    }
   ],
   "source": [
    "#Create a random normal-dist dataset\n",
    "dataset1 = randn(100)\n",
    "\n",
    "#Plot a histogram of the dataset, note bins=10 by default\n",
    "plt.hist(dataset1, color='indianred')"
   ]
  },
  {
   "cell_type": "code",
   "execution_count": 7,
   "metadata": {},
   "outputs": [
    {
     "data": {
      "text/plain": [
       "<seaborn.axisgrid.JointGrid at 0x5c8bd30>"
      ]
     },
     "execution_count": 7,
     "metadata": {},
     "output_type": "execute_result"
    },
    {
     "data": {
      "image/png": "[encoded data removed]",
      "text/plain": [
       "<Figure size 432x432 with 3 Axes>"
      ]
     },
     "metadata": {
      "needs_background": "light"
     },
     "output_type": "display_data"
    }
   ],
   "source": [
    "# Make two more random normal dist data sets\n",
    "data1 = randn(1000)\n",
    "data2 = randn(1000)\n",
    "\n",
    "#Can represent joint distributions using joint plots\n",
    "sns.jointplot(data1,data2)"
   ]
  },
  {
   "cell_type": "code",
   "execution_count": 10,
   "metadata": {},
   "outputs": [
    {
     "data": {
      "text/plain": [
       "<matplotlib.axes._subplots.AxesSubplot at 0x6468518>"
      ]
     },
     "execution_count": 10,
     "metadata": {},
     "output_type": "execute_result"
    },
    {
     "data": {
      "image/png": "[encoded data removed]",
      "text/plain": [
       "<Figure size 432x288 with 1 Axes>"
      ]
     },
     "metadata": {
      "needs_background": "light"
     },
     "output_type": "display_data"
    }
   ],
   "source": [
    "# Create datset\n",
    "dataset = randn(100)\n",
    "\n",
    "# Use distplot for combining plots, by default a kde over a histogram is shown\n",
    "sns.distplot(dataset, color='black',bins=25)"
   ]
  },
  {
   "cell_type": "code",
   "execution_count": 15,
   "metadata": {},
   "outputs": [],
   "source": [
    "# Now we can create a box plot\n",
    "# Let's create two distributions\n",
    "data11 = randn(100)\n",
    "data22 = randn(100) + 2 # Off set the mean\n"
   ]
  },
  {
   "cell_type": "code",
   "execution_count": 17,
   "metadata": {},
   "outputs": [
    {
     "data": {
      "text/plain": [
       "<matplotlib.axes._subplots.AxesSubplot at 0x7ce0f60>"
      ]
     },
     "execution_count": 17,
     "metadata": {},
     "output_type": "execute_result"
    },
    {
     "data": {
      "image/png": "[encoded data removed]",
      "text/plain": [
       "<Figure size 432x288 with 1 Axes>"
      ]
     },
     "metadata": {
      "needs_background": "light"
     },
     "output_type": "display_data"
    }
   ],
   "source": [
    "sns.boxplot([data11])\n",
    "\n",
    "\n"
   ]
  },
  {
   "cell_type": "code",
   "execution_count": null,
   "metadata": {},
   "outputs": [],
   "source": []
  }
 ],
 "metadata": {
  "kernelspec": {
   "display_name": "Python 3",
   "language": "python",
   "name": "python3"
  },
  "language_info": {
   "codemirror_mode": {
    "name": "ipython",
    "version": 3
   },
   "file_extension": ".py",
   "mimetype": "text/x-python",
   "name": "python",
   "nbconvert_exporter": "python",
   "pygments_lexer": "ipython3",
   "version": "3.7.3"
  }
 },
 "nbformat": 4,
 "nbformat_minor": 2
}
