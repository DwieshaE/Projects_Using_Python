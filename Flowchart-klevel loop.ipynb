{
 "cells": [
  {
   "cell_type": "code",
   "execution_count": 16,
   "metadata": {},
   "outputs": [],
   "source": [
    "def example(arg1, arg2, arg3):\n",
    "     if arg1 == 1 and arg2 == 2 and arg3 == 3:\n",
    "            print(\"Example Text\")"
   ]
  },
  {
   "cell_type": "code",
   "execution_count": 3,
   "metadata": {},
   "outputs": [],
   "source": [
    "# Data Imports\n",
    "import numpy as np\n",
    "import pandas as pd\n",
    "from pandas import Series,DataFrame\n",
    "\n",
    "import os\n",
    "## get the working directory\n",
    "os.getcwd()\n",
    "\n",
    "# Plot imports\n",
    "import matplotlib.pyplot as plt\n",
    "import seaborn as sns\n",
    "sns.set_style('whitegrid')\n",
    "\n",
    "%matplotlib inline\n",
    "from sklearn import linear_model"
   ]
  },
  {
   "cell_type": "raw",
   "metadata": {},
   "source": [
    "def BMI2(ampRt):    \n",
    "    \n",
    "    if ampRt == '1':\n",
    "        return 0.16\n",
    "    elif ampRt == '2':\n",
    "        return 0.1\n",
    "    elif ampRt == '3':\n",
    "        return 0.08\n",
    "    elif ampRt == '4':\n",
    "        return 0.059\n",
    "    elif ampRt == '5':\n",
    "        return 0.015\n",
    "    elif ampRt == '6':\n",
    "        return 0\n",
    "    else:\n",
    "        return 0"
   ]
  },
  {
   "cell_type": "raw",
   "metadata": {},
   "source": [
    "Y1['ampRt'] = Y1['AmpRT'].apply(BMI2) "
   ]
  },
  {
   "cell_type": "code",
   "execution_count": 79,
   "metadata": {},
   "outputs": [
    {
     "data": {
      "text/html": [
       "<div>\n",
       "<style scoped>\n",
       "    .dataframe tbody tr th:only-of-type {\n",
       "        vertical-align: middle;\n",
       "    }\n",
       "\n",
       "    .dataframe tbody tr th {\n",
       "        vertical-align: top;\n",
       "    }\n",
       "\n",
       "    .dataframe thead th {\n",
       "        text-align: right;\n",
       "    }\n",
       "</style>\n",
       "<table border=\"1\" class=\"dataframe\">\n",
       "  <thead>\n",
       "    <tr style=\"text-align: right;\">\n",
       "      <th></th>\n",
       "      <th>Plusm</th>\n",
       "      <th>Age</th>\n",
       "      <th>Causeamp</th>\n",
       "      <th>Wt</th>\n",
       "    </tr>\n",
       "  </thead>\n",
       "  <tbody>\n",
       "    <tr>\n",
       "      <th>0</th>\n",
       "      <td>41</td>\n",
       "      <td>60</td>\n",
       "      <td>1</td>\n",
       "      <td>81</td>\n",
       "    </tr>\n",
       "    <tr>\n",
       "      <th>1</th>\n",
       "      <td>18</td>\n",
       "      <td>23</td>\n",
       "      <td>2</td>\n",
       "      <td>92</td>\n",
       "    </tr>\n",
       "    <tr>\n",
       "      <th>2</th>\n",
       "      <td>32</td>\n",
       "      <td>72</td>\n",
       "      <td>1</td>\n",
       "      <td>99</td>\n",
       "    </tr>\n",
       "    <tr>\n",
       "      <th>3</th>\n",
       "      <td>51</td>\n",
       "      <td>30</td>\n",
       "      <td>1</td>\n",
       "      <td>61</td>\n",
       "    </tr>\n",
       "    <tr>\n",
       "      <th>4</th>\n",
       "      <td>32</td>\n",
       "      <td>99</td>\n",
       "      <td>2</td>\n",
       "      <td>22</td>\n",
       "    </tr>\n",
       "  </tbody>\n",
       "</table>\n",
       "</div>"
      ],
      "text/plain": [
       "   Plusm  Age  Causeamp  Wt\n",
       "0     41   60         1  81\n",
       "1     18   23         2  92\n",
       "2     32   72         1  99\n",
       "3     51   30         1  61\n",
       "4     32   99         2  22"
      ]
     },
     "execution_count": 79,
     "metadata": {},
     "output_type": "execute_result"
    }
   ],
   "source": [
    "d = {'Plusm': [41, 18, 32, 51,32], 'Age': [60, 23, 72, 30, 99], 'Causeamp': [1, 2, 1, 1,2], 'Wt': [81, 92, 99, 61,22]}\n",
    "df = pd.DataFrame(data=d) \n",
    "df"
   ]
  },
  {
   "cell_type": "code",
   "execution_count": 80,
   "metadata": {},
   "outputs": [
    {
     "data": {
      "text/plain": [
       "pandas.core.frame.DataFrame"
      ]
     },
     "execution_count": 80,
     "metadata": {},
     "output_type": "execute_result"
    }
   ],
   "source": [
    "type(df)\n"
   ]
  },
  {
   "cell_type": "code",
   "execution_count": 90,
   "metadata": {},
   "outputs": [],
   "source": [
    "def BMI2(live):    \n",
    "    plusm,age,causeamp,wt=live\n",
    "    \n",
    "    if plusm >= 36.75 and age<= 58.8:\n",
    "        return 1\n",
    "    elif plusm >= 36.75 and age>=58.8 and plusm>=49.5:\n",
    "        return 2\n",
    "    elif plusm >= 36.75 and age>=58.8 and plusm<=49.5 and causeamp==2:\n",
    "        return 3\n",
    "    elif plusm >= 36.75 and age>=58.8 and plusm<=49.5 and causeamp==1 and age>=70.5:\n",
    "        return 4\n",
    "    elif plusm >= 36.75 and age>=58.8 and plusm<=49.5 and causeamp==1 and age<=70.5 and wt>=90.3:\n",
    "        return 5\n",
    "    elif plusm >= 36.75 and age>=58.8 and plusm<=49.5 and causeamp==1 and age<=70.5 and wt<=90.3:\n",
    "        return 6\n",
    "    elif plusm <= 36.75 and age<=59.4:\n",
    "        return 7\n",
    "    elif plusm <= 36.75 and age>=59.4 and causeamp==2:\n",
    "        return 8\n",
    "    elif plusm <= 36.75 and age>=59.4 and causeamp==1:\n",
    "        return 9\n",
    "    elif plusm >= 36.75:  ##This condition does not execute becuase all patients will fall within 1 of 9 terminal nodes\n",
    "        return 10\n",
    "    else:\n",
    "        return 0"
   ]
  },
  {
   "cell_type": "code",
   "execution_count": 91,
   "metadata": {},
   "outputs": [
    {
     "data": {
      "text/html": [
       "<div>\n",
       "<style scoped>\n",
       "    .dataframe tbody tr th:only-of-type {\n",
       "        vertical-align: middle;\n",
       "    }\n",
       "\n",
       "    .dataframe tbody tr th {\n",
       "        vertical-align: top;\n",
       "    }\n",
       "\n",
       "    .dataframe thead th {\n",
       "        text-align: right;\n",
       "    }\n",
       "</style>\n",
       "<table border=\"1\" class=\"dataframe\">\n",
       "  <thead>\n",
       "    <tr style=\"text-align: right;\">\n",
       "      <th></th>\n",
       "      <th>Plusm</th>\n",
       "      <th>Age</th>\n",
       "      <th>Causeamp</th>\n",
       "      <th>Wt</th>\n",
       "      <th>klev</th>\n",
       "    </tr>\n",
       "  </thead>\n",
       "  <tbody>\n",
       "    <tr>\n",
       "      <th>0</th>\n",
       "      <td>41</td>\n",
       "      <td>60</td>\n",
       "      <td>1</td>\n",
       "      <td>81</td>\n",
       "      <td>6</td>\n",
       "    </tr>\n",
       "    <tr>\n",
       "      <th>1</th>\n",
       "      <td>18</td>\n",
       "      <td>23</td>\n",
       "      <td>2</td>\n",
       "      <td>92</td>\n",
       "      <td>7</td>\n",
       "    </tr>\n",
       "    <tr>\n",
       "      <th>2</th>\n",
       "      <td>32</td>\n",
       "      <td>72</td>\n",
       "      <td>1</td>\n",
       "      <td>99</td>\n",
       "      <td>9</td>\n",
       "    </tr>\n",
       "    <tr>\n",
       "      <th>3</th>\n",
       "      <td>51</td>\n",
       "      <td>30</td>\n",
       "      <td>1</td>\n",
       "      <td>61</td>\n",
       "      <td>1</td>\n",
       "    </tr>\n",
       "    <tr>\n",
       "      <th>4</th>\n",
       "      <td>32</td>\n",
       "      <td>99</td>\n",
       "      <td>2</td>\n",
       "      <td>22</td>\n",
       "      <td>8</td>\n",
       "    </tr>\n",
       "  </tbody>\n",
       "</table>\n",
       "</div>"
      ],
      "text/plain": [
       "   Plusm  Age  Causeamp  Wt  klev\n",
       "0     41   60         1  81     6\n",
       "1     18   23         2  92     7\n",
       "2     32   72         1  99     9\n",
       "3     51   30         1  61     1\n",
       "4     32   99         2  22     8"
      ]
     },
     "execution_count": 91,
     "metadata": {},
     "output_type": "execute_result"
    }
   ],
   "source": [
    "df['klev'] = df[['Plusm','Age','Causeamp','Wt']].apply(BMI2,axis=1)\n",
    "df\n",
    "\n",
    "\n"
   ]
  },
  {
   "cell_type": "code",
   "execution_count": null,
   "metadata": {},
   "outputs": [],
   "source": []
  },
  {
   "cell_type": "code",
   "execution_count": null,
   "metadata": {},
   "outputs": [],
   "source": []
  }
 ],
 "metadata": {
  "kernelspec": {
   "display_name": "Python 3",
   "language": "python",
   "name": "python3"
  },
  "language_info": {
   "codemirror_mode": {
    "name": "ipython",
    "version": 3
   },
   "file_extension": ".py",
   "mimetype": "text/x-python",
   "name": "python",
   "nbconvert_exporter": "python",
   "pygments_lexer": "ipython3",
   "version": "3.7.3"
  }
 },
 "nbformat": 4,
 "nbformat_minor": 2
}
